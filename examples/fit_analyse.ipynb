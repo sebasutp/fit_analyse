{
 "cells": [
  {
   "cell_type": "code",
   "execution_count": 1,
   "id": "5672b3c1-03ee-4079-9162-c5695e76f41b",
   "metadata": {},
   "outputs": [
    {
     "data": {
      "image/png": "[encoded data removed]",
      "text/plain": [
       "<Figure size 432x288 with 1 Axes>"
      ]
     },
     "metadata": {
      "needs_background": "light"
     },
     "output_type": "display_data"
    }
   ],
   "source": [
    "import fitparse\n",
    "import numpy as np\n",
    "import matplotlib.pyplot as plt\n",
    "\n",
    "def load_power_data(fit_file):\n",
    "    power_data = []\n",
    "\n",
    "    for record in fitfile.messages:\n",
    "        if record.name == 'record':\n",
    "            power = record.get_value('power')\n",
    "            if power:\n",
    "                power_data.append(power)\n",
    "\n",
    "    return power_data\n",
    "\n",
    "def plot_power_cdf(power_data):\n",
    "    sorted_data = np.sort(power_data)\n",
    "    p = 1. * np.arange(len(sorted_data)) / (len(sorted_data) - 1)\n",
    "\n",
    "    plt.plot(sorted_data, p)\n",
    "    plt.xlabel('Power (Watts)')\n",
    "    plt.ylabel('Cumulative Probability')\n",
    "    plt.title('CDF of Power')\n",
    "    plt.grid(True)\n",
    "    plt.show()\n",
    "\n",
    "fitfile = fitparse.FitFile('2024-11-12-065535-ELEMNT ROAM 8055-155-0.fit')\n",
    "power_data = load_power_data(fitfile)\n",
    "plot_power_cdf(power_data)"
   ]
  },
  {
   "cell_type": "code",
   "execution_count": 2,
   "id": "71743b86-4040-412a-989d-1b469c928c73",
   "metadata": {},
   "outputs": [
    {
     "data": {
      "text/html": [
       "<div>\n",
       "<style scoped>\n",
       "    .dataframe tbody tr th:only-of-type {\n",
       "        vertical-align: middle;\n",
       "    }\n",
       "\n",
       "    .dataframe tbody tr th {\n",
       "        vertical-align: top;\n",
       "    }\n",
       "\n",
       "    .dataframe thead th {\n",
       "        text-align: right;\n",
       "    }\n",
       "</style>\n",
       "<table border=\"1\" class=\"dataframe\">\n",
       "  <thead>\n",
       "    <tr style=\"text-align: right;\">\n",
       "      <th></th>\n",
       "      <th>timestamp</th>\n",
       "      <th>position_lat</th>\n",
       "      <th>position_long</th>\n",
       "      <th>gps_accuracy</th>\n",
       "      <th>distance</th>\n",
       "      <th>enhanced_speed</th>\n",
       "      <th>speed</th>\n",
       "      <th>calories</th>\n",
       "      <th>cadence</th>\n",
       "      <th>power</th>\n",
       "      <th>...</th>\n",
       "      <th>right_pedal_smoothness</th>\n",
       "      <th>left_torque_effectiveness</th>\n",
       "      <th>right_torque_effectiveness</th>\n",
       "      <th>battery_soc</th>\n",
       "      <th>temperature</th>\n",
       "      <th>enhanced_altitude</th>\n",
       "      <th>altitude</th>\n",
       "      <th>grade</th>\n",
       "      <th>ascent</th>\n",
       "      <th>descent</th>\n",
       "    </tr>\n",
       "  </thead>\n",
       "  <tbody>\n",
       "    <tr>\n",
       "      <th>0</th>\n",
       "      <td>2024-11-12 06:55:35</td>\n",
       "      <td>48.810226</td>\n",
       "      <td>9.163252</td>\n",
       "      <td>23.0</td>\n",
       "      <td>0.00</td>\n",
       "      <td>1.603</td>\n",
       "      <td>1.603</td>\n",
       "      <td>NaN</td>\n",
       "      <td>NaN</td>\n",
       "      <td>NaN</td>\n",
       "      <td>...</td>\n",
       "      <td>NaN</td>\n",
       "      <td>NaN</td>\n",
       "      <td>NaN</td>\n",
       "      <td>NaN</td>\n",
       "      <td>NaN</td>\n",
       "      <td>NaN</td>\n",
       "      <td>NaN</td>\n",
       "      <td>NaN</td>\n",
       "      <td>NaN</td>\n",
       "      <td>NaN</td>\n",
       "    </tr>\n",
       "    <tr>\n",
       "      <th>1</th>\n",
       "      <td>2024-11-12 06:55:36</td>\n",
       "      <td>48.810236</td>\n",
       "      <td>9.163212</td>\n",
       "      <td>24.0</td>\n",
       "      <td>3.24</td>\n",
       "      <td>1.923</td>\n",
       "      <td>1.923</td>\n",
       "      <td>0.0</td>\n",
       "      <td>44.0</td>\n",
       "      <td>231.0</td>\n",
       "      <td>...</td>\n",
       "      <td>22.0</td>\n",
       "      <td>92.0</td>\n",
       "      <td>97.5</td>\n",
       "      <td>98.0</td>\n",
       "      <td>NaN</td>\n",
       "      <td>NaN</td>\n",
       "      <td>NaN</td>\n",
       "      <td>NaN</td>\n",
       "      <td>NaN</td>\n",
       "      <td>NaN</td>\n",
       "    </tr>\n",
       "    <tr>\n",
       "      <th>2</th>\n",
       "      <td>2024-11-12 06:55:37</td>\n",
       "      <td>48.810247</td>\n",
       "      <td>9.163171</td>\n",
       "      <td>26.0</td>\n",
       "      <td>6.47</td>\n",
       "      <td>2.244</td>\n",
       "      <td>2.244</td>\n",
       "      <td>0.0</td>\n",
       "      <td>46.0</td>\n",
       "      <td>225.0</td>\n",
       "      <td>...</td>\n",
       "      <td>25.5</td>\n",
       "      <td>92.5</td>\n",
       "      <td>96.0</td>\n",
       "      <td>NaN</td>\n",
       "      <td>21.0</td>\n",
       "      <td>NaN</td>\n",
       "      <td>NaN</td>\n",
       "      <td>NaN</td>\n",
       "      <td>NaN</td>\n",
       "      <td>NaN</td>\n",
       "    </tr>\n",
       "    <tr>\n",
       "      <th>3</th>\n",
       "      <td>2024-11-12 06:55:38</td>\n",
       "      <td>48.810257</td>\n",
       "      <td>9.163134</td>\n",
       "      <td>29.0</td>\n",
       "      <td>9.54</td>\n",
       "      <td>2.676</td>\n",
       "      <td>2.676</td>\n",
       "      <td>0.0</td>\n",
       "      <td>49.0</td>\n",
       "      <td>217.0</td>\n",
       "      <td>...</td>\n",
       "      <td>29.5</td>\n",
       "      <td>93.5</td>\n",
       "      <td>94.5</td>\n",
       "      <td>NaN</td>\n",
       "      <td>21.0</td>\n",
       "      <td>NaN</td>\n",
       "      <td>NaN</td>\n",
       "      <td>NaN</td>\n",
       "      <td>NaN</td>\n",
       "      <td>NaN</td>\n",
       "    </tr>\n",
       "    <tr>\n",
       "      <th>4</th>\n",
       "      <td>2024-11-12 06:55:39</td>\n",
       "      <td>48.810272</td>\n",
       "      <td>9.163093</td>\n",
       "      <td>32.0</td>\n",
       "      <td>12.94</td>\n",
       "      <td>2.932</td>\n",
       "      <td>2.932</td>\n",
       "      <td>0.0</td>\n",
       "      <td>52.0</td>\n",
       "      <td>196.0</td>\n",
       "      <td>...</td>\n",
       "      <td>29.5</td>\n",
       "      <td>92.5</td>\n",
       "      <td>92.5</td>\n",
       "      <td>NaN</td>\n",
       "      <td>21.0</td>\n",
       "      <td>NaN</td>\n",
       "      <td>NaN</td>\n",
       "      <td>NaN</td>\n",
       "      <td>NaN</td>\n",
       "      <td>NaN</td>\n",
       "    </tr>\n",
       "    <tr>\n",
       "      <th>...</th>\n",
       "      <td>...</td>\n",
       "      <td>...</td>\n",
       "      <td>...</td>\n",
       "      <td>...</td>\n",
       "      <td>...</td>\n",
       "      <td>...</td>\n",
       "      <td>...</td>\n",
       "      <td>...</td>\n",
       "      <td>...</td>\n",
       "      <td>...</td>\n",
       "      <td>...</td>\n",
       "      <td>...</td>\n",
       "      <td>...</td>\n",
       "      <td>...</td>\n",
       "      <td>...</td>\n",
       "      <td>...</td>\n",
       "      <td>...</td>\n",
       "      <td>...</td>\n",
       "      <td>...</td>\n",
       "      <td>...</td>\n",
       "      <td>...</td>\n",
       "    </tr>\n",
       "    <tr>\n",
       "      <th>23705</th>\n",
       "      <td>2024-11-12 14:52:34</td>\n",
       "      <td>NaN</td>\n",
       "      <td>NaN</td>\n",
       "      <td>NaN</td>\n",
       "      <td>173351.73</td>\n",
       "      <td>NaN</td>\n",
       "      <td>NaN</td>\n",
       "      <td>4469.0</td>\n",
       "      <td>0.0</td>\n",
       "      <td>0.0</td>\n",
       "      <td>...</td>\n",
       "      <td>NaN</td>\n",
       "      <td>NaN</td>\n",
       "      <td>NaN</td>\n",
       "      <td>NaN</td>\n",
       "      <td>4.0</td>\n",
       "      <td>411.2</td>\n",
       "      <td>411.2</td>\n",
       "      <td>-7.10</td>\n",
       "      <td>2487.0</td>\n",
       "      <td>2409.0</td>\n",
       "    </tr>\n",
       "    <tr>\n",
       "      <th>23706</th>\n",
       "      <td>2024-11-12 14:52:35</td>\n",
       "      <td>NaN</td>\n",
       "      <td>NaN</td>\n",
       "      <td>NaN</td>\n",
       "      <td>173351.73</td>\n",
       "      <td>NaN</td>\n",
       "      <td>NaN</td>\n",
       "      <td>4469.0</td>\n",
       "      <td>0.0</td>\n",
       "      <td>0.0</td>\n",
       "      <td>...</td>\n",
       "      <td>NaN</td>\n",
       "      <td>NaN</td>\n",
       "      <td>NaN</td>\n",
       "      <td>NaN</td>\n",
       "      <td>4.0</td>\n",
       "      <td>411.2</td>\n",
       "      <td>411.2</td>\n",
       "      <td>-6.70</td>\n",
       "      <td>2487.0</td>\n",
       "      <td>2409.0</td>\n",
       "    </tr>\n",
       "    <tr>\n",
       "      <th>23707</th>\n",
       "      <td>2024-11-12 14:52:36</td>\n",
       "      <td>NaN</td>\n",
       "      <td>NaN</td>\n",
       "      <td>NaN</td>\n",
       "      <td>173351.73</td>\n",
       "      <td>NaN</td>\n",
       "      <td>NaN</td>\n",
       "      <td>4469.0</td>\n",
       "      <td>0.0</td>\n",
       "      <td>0.0</td>\n",
       "      <td>...</td>\n",
       "      <td>NaN</td>\n",
       "      <td>NaN</td>\n",
       "      <td>NaN</td>\n",
       "      <td>NaN</td>\n",
       "      <td>4.0</td>\n",
       "      <td>411.2</td>\n",
       "      <td>411.2</td>\n",
       "      <td>-6.12</td>\n",
       "      <td>2487.0</td>\n",
       "      <td>2409.0</td>\n",
       "    </tr>\n",
       "    <tr>\n",
       "      <th>23708</th>\n",
       "      <td>2024-11-12 14:52:37</td>\n",
       "      <td>NaN</td>\n",
       "      <td>NaN</td>\n",
       "      <td>NaN</td>\n",
       "      <td>173351.73</td>\n",
       "      <td>NaN</td>\n",
       "      <td>NaN</td>\n",
       "      <td>4469.0</td>\n",
       "      <td>0.0</td>\n",
       "      <td>0.0</td>\n",
       "      <td>...</td>\n",
       "      <td>NaN</td>\n",
       "      <td>NaN</td>\n",
       "      <td>NaN</td>\n",
       "      <td>NaN</td>\n",
       "      <td>NaN</td>\n",
       "      <td>411.2</td>\n",
       "      <td>411.2</td>\n",
       "      <td>-5.30</td>\n",
       "      <td>2487.0</td>\n",
       "      <td>2409.0</td>\n",
       "    </tr>\n",
       "    <tr>\n",
       "      <th>23709</th>\n",
       "      <td>2024-11-12 14:52:38</td>\n",
       "      <td>NaN</td>\n",
       "      <td>NaN</td>\n",
       "      <td>NaN</td>\n",
       "      <td>173351.73</td>\n",
       "      <td>NaN</td>\n",
       "      <td>NaN</td>\n",
       "      <td>4469.0</td>\n",
       "      <td>0.0</td>\n",
       "      <td>0.0</td>\n",
       "      <td>...</td>\n",
       "      <td>NaN</td>\n",
       "      <td>NaN</td>\n",
       "      <td>NaN</td>\n",
       "      <td>NaN</td>\n",
       "      <td>NaN</td>\n",
       "      <td>411.0</td>\n",
       "      <td>411.0</td>\n",
       "      <td>-4.19</td>\n",
       "      <td>2487.0</td>\n",
       "      <td>2409.0</td>\n",
       "    </tr>\n",
       "  </tbody>\n",
       "</table>\n",
       "<p>23710 rows × 22 columns</p>\n",
       "</div>"
      ],
      "text/plain": [
       "                timestamp  position_lat  position_long  gps_accuracy  \\\n",
       "0     2024-11-12 06:55:35     48.810226       9.163252          23.0   \n",
       "1     2024-11-12 06:55:36     48.810236       9.163212          24.0   \n",
       "2     2024-11-12 06:55:37     48.810247       9.163171          26.0   \n",
       "3     2024-11-12 06:55:38     48.810257       9.163134          29.0   \n",
       "4     2024-11-12 06:55:39     48.810272       9.163093          32.0   \n",
       "...                   ...           ...            ...           ...   \n",
       "23705 2024-11-12 14:52:34           NaN            NaN           NaN   \n",
       "23706 2024-11-12 14:52:35           NaN            NaN           NaN   \n",
       "23707 2024-11-12 14:52:36           NaN            NaN           NaN   \n",
       "23708 2024-11-12 14:52:37           NaN            NaN           NaN   \n",
       "23709 2024-11-12 14:52:38           NaN            NaN           NaN   \n",
       "\n",
       "        distance  enhanced_speed  speed  calories  cadence  power  ...  \\\n",
       "0           0.00           1.603  1.603       NaN      NaN    NaN  ...   \n",
       "1           3.24           1.923  1.923       0.0     44.0  231.0  ...   \n",
       "2           6.47           2.244  2.244       0.0     46.0  225.0  ...   \n",
       "3           9.54           2.676  2.676       0.0     49.0  217.0  ...   \n",
       "4          12.94           2.932  2.932       0.0     52.0  196.0  ...   \n",
       "...          ...             ...    ...       ...      ...    ...  ...   \n",
       "23705  173351.73             NaN    NaN    4469.0      0.0    0.0  ...   \n",
       "23706  173351.73             NaN    NaN    4469.0      0.0    0.0  ...   \n",
       "23707  173351.73             NaN    NaN    4469.0      0.0    0.0  ...   \n",
       "23708  173351.73             NaN    NaN    4469.0      0.0    0.0  ...   \n",
       "23709  173351.73             NaN    NaN    4469.0      0.0    0.0  ...   \n",
       "\n",
       "      right_pedal_smoothness  left_torque_effectiveness  \\\n",
       "0                        NaN                        NaN   \n",
       "1                       22.0                       92.0   \n",
       "2                       25.5                       92.5   \n",
       "3                       29.5                       93.5   \n",
       "4                       29.5                       92.5   \n",
       "...                      ...                        ...   \n",
       "23705                    NaN                        NaN   \n",
       "23706                    NaN                        NaN   \n",
       "23707                    NaN                        NaN   \n",
       "23708                    NaN                        NaN   \n",
       "23709                    NaN                        NaN   \n",
       "\n",
       "       right_torque_effectiveness  battery_soc  temperature  \\\n",
       "0                             NaN          NaN          NaN   \n",
       "1                            97.5         98.0          NaN   \n",
       "2                            96.0          NaN         21.0   \n",
       "3                            94.5          NaN         21.0   \n",
       "4                            92.5          NaN         21.0   \n",
       "...                           ...          ...          ...   \n",
       "23705                         NaN          NaN          4.0   \n",
       "23706                         NaN          NaN          4.0   \n",
       "23707                         NaN          NaN          4.0   \n",
       "23708                         NaN          NaN          NaN   \n",
       "23709                         NaN          NaN          NaN   \n",
       "\n",
       "       enhanced_altitude  altitude  grade  ascent  descent  \n",
       "0                    NaN       NaN    NaN     NaN      NaN  \n",
       "1                    NaN       NaN    NaN     NaN      NaN  \n",
       "2                    NaN       NaN    NaN     NaN      NaN  \n",
       "3                    NaN       NaN    NaN     NaN      NaN  \n",
       "4                    NaN       NaN    NaN     NaN      NaN  \n",
       "...                  ...       ...    ...     ...      ...  \n",
       "23705              411.2     411.2  -7.10  2487.0   2409.0  \n",
       "23706              411.2     411.2  -6.70  2487.0   2409.0  \n",
       "23707              411.2     411.2  -6.12  2487.0   2409.0  \n",
       "23708              411.2     411.2  -5.30  2487.0   2409.0  \n",
       "23709              411.0     411.0  -4.19  2487.0   2409.0  \n",
       "\n",
       "[23710 rows x 22 columns]"
      ]
     },
     "execution_count": 2,
     "metadata": {},
     "output_type": "execute_result"
    }
   ],
   "source": [
    "import pandas as pd\n",
    "\n",
    "def extract_data_to_dataframe(fitfile):\n",
    "    data = []\n",
    "\n",
    "    for record in fitfile.messages:\n",
    "        if record.name == 'record':\n",
    "            row_data = {}\n",
    "            for field in record.fields:\n",
    "                row_data[field.name] = field.value\n",
    "            data.append(row_data)\n",
    "\n",
    "    df = pd.DataFrame(data)\n",
    "    position_scale = (1 << 32) / 360.0\n",
    "    df['position_lat'] = df['position_lat'] / position_scale\n",
    "    df['position_long'] = df['position_long'] / position_scale\n",
    "    return df\n",
    "\n",
    "ride_df = extract_data_to_dataframe(fitfile)\n",
    "ride_df"
   ]
  },
  {
   "cell_type": "code",
   "execution_count": 3,
   "id": "3f300868",
   "metadata": {},
   "outputs": [
    {
     "data": {
      "text/plain": [
       "Index(['timestamp', 'position_lat', 'position_long', 'gps_accuracy',\n",
       "       'distance', 'enhanced_speed', 'speed', 'calories', 'cadence', 'power',\n",
       "       'left_right_balance', 'left_pedal_smoothness', 'right_pedal_smoothness',\n",
       "       'left_torque_effectiveness', 'right_torque_effectiveness',\n",
       "       'battery_soc', 'temperature', 'enhanced_altitude', 'altitude', 'grade',\n",
       "       'ascent', 'descent'],\n",
       "      dtype='object')"
      ]
     },
     "execution_count": 3,
     "metadata": {},
     "output_type": "execute_result"
    }
   ],
   "source": [
    "ride_df.columns"
   ]
  },
  {
   "cell_type": "code",
   "execution_count": 4,
   "id": "5644a0a0",
   "metadata": {},
   "outputs": [
    {
     "data": {
      "image/png": "[encoded data removed]",
      "text/plain": [
       "<Figure size 432x288 with 1 Axes>"
      ]
     },
     "metadata": {
      "needs_background": "light"
     },
     "output_type": "display_data"
    }
   ],
   "source": [
    "\n",
    "plt.plot(ride_df['distance'].to_numpy() / 1000.0, ride_df['altitude'].to_numpy())\n",
    "plt.title('Altitude plot')\n",
    "plt.xlabel('Distance')\n",
    "plt.ylabel('Altitude')\n",
    "plt.show()"
   ]
  },
  {
   "cell_type": "code",
   "execution_count": 5,
   "id": "354b96f1",
   "metadata": {},
   "outputs": [
    {
     "data": {
      "image/png": "[encoded data removed]",
      "text/plain": [
       "<Figure size 432x288 with 1 Axes>"
      ]
     },
     "metadata": {
      "needs_background": "light"
     },
     "output_type": "display_data"
    }
   ],
   "source": [
    "\n",
    "speed = ride_df['speed'].to_numpy()*3.6\n",
    "plt.plot(ride_df['distance'].to_numpy() / 1000.0, speed)\n",
    "plt.title('Speed plot')\n",
    "plt.xlabel('Distance')\n",
    "plt.ylabel('Speed')\n",
    "plt.show()"
   ]
  },
  {
   "cell_type": "code",
   "execution_count": 6,
   "id": "c99e97b6",
   "metadata": {},
   "outputs": [
    {
     "data": {
      "image/png": "[encoded data removed]",
      "text/plain": [
       "<Figure size 432x288 with 1 Axes>"
      ]
     },
     "metadata": {
      "needs_background": "light"
     },
     "output_type": "display_data"
    }
   ],
   "source": [
    "plt.plot(ride_df['distance'].to_numpy() / 1000.0, ride_df.power.to_numpy())\n",
    "plt.title('Power plot')\n",
    "plt.xlabel('Distance')\n",
    "plt.ylabel('Power')\n",
    "plt.show()"
   ]
  },
  {
   "cell_type": "code",
   "execution_count": 7,
   "id": "c16e4c52",
   "metadata": {},
   "outputs": [
    {
     "data": {
      "text/plain": [
       "ActivitySummary(distance=173.35173, total_elapsed_time=28623.0, active_time=23710.0, elevation_gain=2485.799999999999, average_speed=26.222944791798508, power_summary=PowerSummary(average_power=188.26431885280473, median_power=221.0, total_work=4463.747, quantiles='[0.0, 0.0, 0.0, 0.0, 0.0, 0.0, 0.0, 0.0, 0.0, 0.0, 0.0, 0.0, 0.0, 0.0, 0.0, 22.0, 54.0, 84.0, 106.0, 122.0, 134.0, 144.0, 152.0, 159.0, 165.0, 170.0, 175.0, 179.0, 183.0, 186.0, 189.0, 192.0, 194.0, 196.0, 198.0, 200.0, 202.0, 204.0, 206.0, 207.0, 209.0, 210.0, 212.0, 213.0, 214.0, 215.0, 217.0, 218.0, 219.0, 220.0, 221.0, 222.0, 223.0, 224.0, 225.0, 226.0, 227.0, 228.0, 229.0, 230.0, 231.0, 232.0, 232.0, 233.0, 234.0, 235.0, 236.0, 236.0, 237.0, 238.0, 239.0, 240.0, 241.0, 242.0, 243.0, 244.0, 245.0, 246.0, 247.0, 248.0, 249.0, 250.0, 252.0, 253.0, 254.0, 256.0, 257.0, 259.0, 261.0, 263.0, 265.0, 268.0, 271.0, 275.0, 280.0, 285.0, 291.0, 299.0, 310.27999999999884, 336.0, 542.0]'))"
      ]
     },
     "execution_count": 7,
     "metadata": {},
     "output_type": "execute_result"
    }
   ],
   "source": [
    "from sqlmodel import SQLModel\n",
    "import pandas\n",
    "import json\n",
    "from typing import Optional\n",
    "\n",
    "class PowerSummary(SQLModel):\n",
    "    average_power: float | None\n",
    "    median_power: float | None\n",
    "    total_work: float | None\n",
    "    # JSON encoded array of 101 position 0..100, with the power quantiles\n",
    "    quantiles: Optional[str] = None\n",
    "\n",
    "class ActivitySummary(SQLModel):\n",
    "    distance: float | None\n",
    "    total_elapsed_time: float | None\n",
    "    active_time: float | None\n",
    "    elevation_gain: float | None\n",
    "    average_speed: float | None\n",
    "    power_summary: Optional[PowerSummary] = None\n",
    "\n",
    "class Climb(SQLModel):\n",
    "    from_ix: int | None\n",
    "    to_ix: int | None\n",
    "    elevation: float | None\n",
    "\n",
    "\n",
    "\n",
    "def compute_elevation_gain_intervals(df: pandas.DataFrame, tolerance=1.0, min_elev=1.0):\n",
    "    altitude_series = df.altitude.dropna()\n",
    "    altitude = altitude_series.to_list()\n",
    "    original_ix = altitude_series.index\n",
    "    #print(len(original_ix), len(altitude))\n",
    "    climbs = []\n",
    "    high_ix = low_ix = 0\n",
    "    for i, h in enumerate(altitude):\n",
    "        if h < altitude[low_ix]:\n",
    "            low_ix = i\n",
    "        if h > altitude[high_ix]:\n",
    "            high_ix = i\n",
    "        if h < (altitude[high_ix] - tolerance):\n",
    "            # It means we are going down again\n",
    "            climb = Climb(\n",
    "                from_ix=original_ix[low_ix],\n",
    "                to_ix=original_ix[high_ix],\n",
    "                elevation=altitude[high_ix] - altitude[low_ix]\n",
    "            )\n",
    "            #print(low_ix, high_ix, climb)\n",
    "            if climb.from_ix < climb.to_ix and climb.elevation > min_elev:\n",
    "                climbs.append(climb)\n",
    "            low_ix = i\n",
    "            high_ix = i\n",
    "    return climbs\n",
    "\n",
    "def compute_elevation_gain(df: pandas.DataFrame, tolerance: float, min_elev: float):\n",
    "    segments = compute_elevation_gain_intervals(df, tolerance, min_elev)\n",
    "    return sum(map(lambda x: x.elevation, segments))\n",
    "\n",
    "def compute_activity_summary(df: pandas.DataFrame):\n",
    "    total_time = len(ride_df)\n",
    "    summary = ActivitySummary(\n",
    "        distance=ride_df['distance'].iloc[-1] / 1000,\n",
    "        total_elapsed_time=(ride_df['timestamp'].iloc[-1] - ride_df['timestamp'][0]).seconds,\n",
    "        active_time=total_time,\n",
    "        elevation_gain=compute_elevation_gain(df, tolerance=2, min_elev=4.0),\n",
    "        average_speed=ride_df['speed'].mean() * 3.6  # From m/s to km/h\n",
    "    )\n",
    "    if 'power' in df.columns:\n",
    "        work = df.power.sum()\n",
    "        quantiles = df.power.quantile(np.arange(0, 101)/100)\n",
    "        summary.power_summary = PowerSummary(\n",
    "            average_power = work / total_time,\n",
    "            median_power = quantiles.iloc[50],\n",
    "            total_work = work / 1000,  # to KJ instad of Joules\n",
    "            quantiles = json.dumps(quantiles.to_list())\n",
    "        )\n",
    "    return summary\n",
    "\n",
    "#compute_elevation_gain(ride_df, tolerance=2.0, min_elev=5.0)\n",
    "compute_activity_summary(ride_df)"
   ]
  },
  {
   "cell_type": "code",
   "execution_count": 8,
   "id": "8c128c93",
   "metadata": {},
   "outputs": [
    {
     "data": {
      "image/png": "[encoded data removed]",
      "text/plain": [
       "<Figure size 576x432 with 1 Axes>"
      ]
     },
     "metadata": {
      "needs_background": "light"
     },
     "output_type": "display_data"
    }
   ],
   "source": [
    "summary = compute_activity_summary(ride_df)\n",
    "\n",
    "power_quantiles = json.loads(summary.power_summary.quantiles)\n",
    "y_quantiles = np.arange(0, 101) / 100.0\n",
    "plt.figure(figsize=(8, 6))\n",
    "plt.xlabel('Power')\n",
    "plt.ylabel('CDF')\n",
    "plt.plot(power_quantiles, y_quantiles)\n",
    "plt.show()"
   ]
  },
  {
   "cell_type": "code",
   "execution_count": 9,
   "id": "d13ce8fa",
   "metadata": {},
   "outputs": [
    {
     "data": {
      "text/plain": [
       "1236.6"
      ]
     },
     "execution_count": 9,
     "metadata": {},
     "output_type": "execute_result"
    }
   ],
   "source": [
    "compute_elevation_gain(ride_df, tolerance=30.0, min_elev=100.0)"
   ]
  },
  {
   "cell_type": "code",
   "execution_count": 11,
   "id": "3ce0b2ef",
   "metadata": {},
   "outputs": [
    {
     "data": {
      "image/png": "[encoded data removed]",
      "text/plain": [
       "<Figure size 432x288 with 1 Axes>"
      ]
     },
     "metadata": {
      "needs_background": "light"
     },
     "output_type": "display_data"
    }
   ],
   "source": [
    "climbs = compute_elevation_gain_intervals(ride_df, tolerance=30.0, min_elev=50.0)\n",
    "#climbs = compute_elevation_gain_intervals(ride_df, tolerance=2, min_elev=5)\n",
    "\n",
    "plt.plot(ride_df['distance'].to_numpy() / 1000.0, ride_df['altitude'].to_numpy())\n",
    "for climb in climbs:\n",
    "    plt.axvline(x=ride_df.distance[climb.from_ix]/1000, color='b')\n",
    "    plt.axvline(x=ride_df.distance[climb.to_ix]/1000, color='r')\n",
    "plt.title('Altitude plot')\n",
    "plt.xlabel('Distance')\n",
    "plt.ylabel('Altitude')\n",
    "plt.show()"
   ]
  },
  {
   "cell_type": "code",
   "execution_count": 20,
   "id": "4b80f37e-381c-453e-89c5-bea05c5d9a79",
   "metadata": {},
   "outputs": [
    {
     "data": {
      "text/plain": [
       "'{\"timestamp\":{\"0\":1731394535000,\"1\":1731394536000,\"2\":1731394537000,\"3\":1731394538000,\"4\":1731394539000,\"5\":1731394540000,\"6\":1731394541000,\"7\":1731394542000,\"8\":1731394543000,\"9\":1731394544000,\"10\":1'"
      ]
     },
     "execution_count": 20,
     "metadata": {},
     "output_type": "execute_result"
    }
   ],
   "source": [
    "ride_df.to_json()[0:200]"
   ]
  },
  {
   "cell_type": "code",
   "execution_count": 19,
   "id": "6c5e2a90",
   "metadata": {},
   "outputs": [
    {
     "ename": "ValueError",
     "evalue": "\nImage export using the \"kaleido\" engine requires the kaleido package,\nwhich can be installed using pip:\n    $ pip install -U kaleido\n",
     "output_type": "error",
     "traceback": [
      "\u001b[0;31m---------------------------------------------------------------------------\u001b[0m",
      "\u001b[0;31mValueError\u001b[0m                                Traceback (most recent call last)",
      "\u001b[0;32m/tmp/ipykernel_26070/215309172.py\u001b[0m in \u001b[0;36m<module>\u001b[0;34m\u001b[0m\n\u001b[1;32m      5\u001b[0m \u001b[0mfig\u001b[0m \u001b[0;34m=\u001b[0m \u001b[0mpx\u001b[0m\u001b[0;34m.\u001b[0m\u001b[0mline_map\u001b[0m\u001b[0;34m(\u001b[0m\u001b[0mride_df\u001b[0m\u001b[0;34m,\u001b[0m \u001b[0mlat\u001b[0m\u001b[0;34m=\u001b[0m\u001b[0;34m\"position_lat\"\u001b[0m\u001b[0;34m,\u001b[0m \u001b[0mlon\u001b[0m\u001b[0;34m=\u001b[0m\u001b[0;34m\"position_long\"\u001b[0m\u001b[0;34m,\u001b[0m \u001b[0mzoom\u001b[0m\u001b[0;34m=\u001b[0m\u001b[0;36m7\u001b[0m\u001b[0;34m,\u001b[0m \u001b[0mheight\u001b[0m\u001b[0;34m=\u001b[0m\u001b[0;36m600\u001b[0m\u001b[0;34m)\u001b[0m\u001b[0;34m\u001b[0m\u001b[0;34m\u001b[0m\u001b[0m\n\u001b[1;32m      6\u001b[0m \u001b[0mfig\u001b[0m\u001b[0;34m.\u001b[0m\u001b[0mupdate_layout\u001b[0m\u001b[0;34m(\u001b[0m\u001b[0mmapbox_style\u001b[0m\u001b[0;34m=\u001b[0m\u001b[0;34m\"open-street-map\"\u001b[0m\u001b[0;34m)\u001b[0m\u001b[0;34m\u001b[0m\u001b[0;34m\u001b[0m\u001b[0m\n\u001b[0;32m----> 7\u001b[0;31m \u001b[0mimage_bytes\u001b[0m \u001b[0;34m=\u001b[0m \u001b[0mfig\u001b[0m\u001b[0;34m.\u001b[0m\u001b[0mto_image\u001b[0m\u001b[0;34m(\u001b[0m\u001b[0mformat\u001b[0m\u001b[0;34m=\u001b[0m\u001b[0;34m'jpg'\u001b[0m\u001b[0;34m)\u001b[0m\u001b[0;34m\u001b[0m\u001b[0;34m\u001b[0m\u001b[0m\n\u001b[0m\u001b[1;32m      8\u001b[0m \u001b[0mfig\u001b[0m\u001b[0;34m.\u001b[0m\u001b[0mshow\u001b[0m\u001b[0;34m(\u001b[0m\u001b[0;34m)\u001b[0m\u001b[0;34m\u001b[0m\u001b[0;34m\u001b[0m\u001b[0m\n",
      "\u001b[0;32m~/.local/lib/python3.10/site-packages/plotly/basedatatypes.py\u001b[0m in \u001b[0;36mto_image\u001b[0;34m(self, *args, **kwargs)\u001b[0m\n\u001b[1;32m   3770\u001b[0m         \u001b[0;32mimport\u001b[0m \u001b[0mplotly\u001b[0m\u001b[0;34m.\u001b[0m\u001b[0mio\u001b[0m \u001b[0;32mas\u001b[0m \u001b[0mpio\u001b[0m\u001b[0;34m\u001b[0m\u001b[0;34m\u001b[0m\u001b[0m\n\u001b[1;32m   3771\u001b[0m \u001b[0;34m\u001b[0m\u001b[0m\n\u001b[0;32m-> 3772\u001b[0;31m         \u001b[0;32mreturn\u001b[0m \u001b[0mpio\u001b[0m\u001b[0;34m.\u001b[0m\u001b[0mto_image\u001b[0m\u001b[0;34m(\u001b[0m\u001b[0mself\u001b[0m\u001b[0;34m,\u001b[0m \u001b[0;34m*\u001b[0m\u001b[0margs\u001b[0m\u001b[0;34m,\u001b[0m \u001b[0;34m**\u001b[0m\u001b[0mkwargs\u001b[0m\u001b[0;34m)\u001b[0m\u001b[0;34m\u001b[0m\u001b[0;34m\u001b[0m\u001b[0m\n\u001b[0m\u001b[1;32m   3773\u001b[0m \u001b[0;34m\u001b[0m\u001b[0m\n\u001b[1;32m   3774\u001b[0m     \u001b[0;32mdef\u001b[0m \u001b[0mwrite_image\u001b[0m\u001b[0;34m(\u001b[0m\u001b[0mself\u001b[0m\u001b[0;34m,\u001b[0m \u001b[0;34m*\u001b[0m\u001b[0margs\u001b[0m\u001b[0;34m,\u001b[0m \u001b[0;34m**\u001b[0m\u001b[0mkwargs\u001b[0m\u001b[0;34m)\u001b[0m\u001b[0;34m:\u001b[0m\u001b[0;34m\u001b[0m\u001b[0;34m\u001b[0m\u001b[0m\n",
      "\u001b[0;32m~/.local/lib/python3.10/site-packages/plotly/io/_kaleido.py\u001b[0m in \u001b[0;36mto_image\u001b[0;34m(fig, format, width, height, scale, validate, engine)\u001b[0m\n\u001b[1;32m    130\u001b[0m     \u001b[0;31m# Raise informative error message if Kaleido is not installed\u001b[0m\u001b[0;34m\u001b[0m\u001b[0;34m\u001b[0m\u001b[0m\n\u001b[1;32m    131\u001b[0m     \u001b[0;32mif\u001b[0m \u001b[0mscope\u001b[0m \u001b[0;32mis\u001b[0m \u001b[0;32mNone\u001b[0m\u001b[0;34m:\u001b[0m\u001b[0;34m\u001b[0m\u001b[0;34m\u001b[0m\u001b[0m\n\u001b[0;32m--> 132\u001b[0;31m         raise ValueError(\n\u001b[0m\u001b[1;32m    133\u001b[0m             \"\"\"\n\u001b[1;32m    134\u001b[0m \u001b[0mImage\u001b[0m \u001b[0mexport\u001b[0m \u001b[0musing\u001b[0m \u001b[0mthe\u001b[0m \u001b[0;34m\"kaleido\"\u001b[0m \u001b[0mengine\u001b[0m \u001b[0mrequires\u001b[0m \u001b[0mthe\u001b[0m \u001b[0mkaleido\u001b[0m \u001b[0mpackage\u001b[0m\u001b[0;34m,\u001b[0m\u001b[0;34m\u001b[0m\u001b[0;34m\u001b[0m\u001b[0m\n",
      "\u001b[0;31mValueError\u001b[0m: \nImage export using the \"kaleido\" engine requires the kaleido package,\nwhich can be installed using pip:\n    $ pip install -U kaleido\n"
     ]
    }
   ],
   "source": [
    "import kaleido\n",
    "import plotly\n",
    "import plotly.express as px\n",
    "\n",
    "fig = px.line_map(ride_df, lat=\"position_lat\", lon=\"position_long\", zoom=7, height=600)\n",
    "fig.update_layout(mapbox_style=\"open-street-map\")\n",
    "image_bytes = fig.to_image(format='jpg')\n",
    "fig.show()"
   ]
  },
  {
   "cell_type": "code",
   "execution_count": 18,
   "id": "bd4818da-0b27-4692-ade6-b6bf9db3a998",
   "metadata": {},
   "outputs": [
    {
     "data": {
      "application/vnd.plotly.v1+json": {
       "config": {
        "plotlyServerURL": "https://plot.ly"
       },
       "data": [
        {
         "hovertemplate": "State=Ohio<br>lat=%{lat}<br>lon=%{lon}<extra></extra>",
         "lat": [
          41.49932,
          40.742551,
          39.71367539999999,
          39.6895036,
          39.9611755,
          41.1339449,
          39.8814519,
          39.3454673,
          41.404774200000006,
          39.1031182,
          41.6639383,
          41.0997803,
          40.758390000000006,
          40.0992294,
          41.04422,
          41.3144966,
          39.7589478,
          41.5931049,
          41.2375569,
          39.843947,
          39.3995008,
          39.9242266,
          41.6661573,
          41.36837979999999,
          39.5150576,
          40.0581205,
          40.1261743,
          41.081444700000006,
          41.452819,
          39.7092262,
          41.481993200000005,
          40.7989473,
          41.5200518
         ],
         "legendgroup": "Ohio",
         "line": {
          "color": "#636efa"
         },
         "lon": [
          -81.6943605,
          -84.1052256,
          -82.59932940000002,
          -84.16882740000001,
          -82.9987942,
          -81.48455849999999,
          -83.09296440000001,
          -84.56031870000001,
          -81.72290859999998,
          -84.5120196,
          -83.555212,
          -80.6495194,
          -82.51544709999999,
          -83.11407709999999,
          -83.6499321,
          -81.83569,
          -84.1916069,
          -81.5267873,
          -80.81841659999999,
          -84.1246608,
          -84.5613355,
          -83.8088171,
          -81.339552,
          -82.10764859999999,
          -84.39827629999999,
          -82.4012642,
          -82.9290696,
          -81.51900529999999,
          -82.18237459999999,
          -84.0632685,
          -81.7981908,
          -81.378447,
          -81.556235
         ],
         "mode": "lines",
         "name": "Ohio",
         "showlegend": true,
         "subplot": "map",
         "type": "scattermap"
        },
        {
         "hovertemplate": "State=New York<br>lat=%{lat}<br>lon=%{lon}<extra></extra>",
         "lat": [
          42.8864468,
          40.9125992,
          42.8142432,
          42.0986867,
          42.65257929999999,
          43.16103,
          40.9312099,
          43.0962143,
          40.7062128,
          40.9114882,
          42.7284117,
          43.0481221,
          40.6642699,
          40.65760220000001,
          41.0339862,
          43.100903,
          40.7127837
         ],
         "legendgroup": "New York",
         "line": {
          "color": "#EF553B"
         },
         "lon": [
          -78.8783689,
          -73.8370786,
          -73.93956870000001,
          -75.9179738,
          -73.7562317,
          -77.61092190000001,
          -73.8987469,
          -79.03773879999999,
          -73.6187397,
          -73.78235490000002,
          -73.69178509999999,
          -76.1474244,
          -73.7084645,
          -73.58318349999999,
          -73.76290970000001,
          -75.232664,
          -74.00594129999999
         ],
         "mode": "lines",
         "name": "New York",
         "showlegend": true,
         "subplot": "map",
         "type": "scattermap"
        }
       ],
       "layout": {
        "height": 300,
        "legend": {
         "title": {
          "text": "State"
         },
         "tracegroupgap": 0
        },
        "map": {
         "center": {
          "lat": 41,
          "lon": -80.107484742
         },
         "domain": {
          "x": [
           0,
           1
          ],
          "y": [
           0,
           1
          ]
         },
         "style": "open-street-map",
         "zoom": 4
        },
        "mapbox": {
         "center": {
          "lat": 41.02214963,
          "lon": -80.107484742
         },
         "zoom": 3
        },
        "margin": {
         "b": 0,
         "l": 0,
         "r": 0,
         "t": 0
        },
        "template": {
         "data": {
          "bar": [
           {
            "error_x": {
             "color": "#2a3f5f"
            },
            "error_y": {
             "color": "#2a3f5f"
            },
            "marker": {
             "line": {
              "color": "#E5ECF6",
              "width": 0.5
             },
             "pattern": {
              "fillmode": "overlay",
              "size": 10,
              "solidity": 0.2
             }
            },
            "type": "bar"
           }
          ],
          "barpolar": [
           {
            "marker": {
             "line": {
              "color": "#E5ECF6",
              "width": 0.5
             },
             "pattern": {
              "fillmode": "overlay",
              "size": 10,
              "solidity": 0.2
             }
            },
            "type": "barpolar"
           }
          ],
          "carpet": [
           {
            "aaxis": {
             "endlinecolor": "#2a3f5f",
             "gridcolor": "white",
             "linecolor": "white",
             "minorgridcolor": "white",
             "startlinecolor": "#2a3f5f"
            },
            "baxis": {
             "endlinecolor": "#2a3f5f",
             "gridcolor": "white",
             "linecolor": "white",
             "minorgridcolor": "white",
             "startlinecolor": "#2a3f5f"
            },
            "type": "carpet"
           }
          ],
          "choropleth": [
           {
            "colorbar": {
             "outlinewidth": 0,
             "ticks": ""
            },
            "type": "choropleth"
           }
          ],
          "contour": [
           {
            "colorbar": {
             "outlinewidth": 0,
             "ticks": ""
            },
            "colorscale": [
             [
              0,
              "#0d0887"
             ],
             [
              0.1111111111111111,
              "#46039f"
             ],
             [
              0.2222222222222222,
              "#7201a8"
             ],
             [
              0.3333333333333333,
              "#9c179e"
             ],
             [
              0.4444444444444444,
              "#bd3786"
             ],
             [
              0.5555555555555556,
              "#d8576b"
             ],
             [
              0.6666666666666666,
              "#ed7953"
             ],
             [
              0.7777777777777778,
              "#fb9f3a"
             ],
             [
              0.8888888888888888,
              "#fdca26"
             ],
             [
              1,
              "#f0f921"
             ]
            ],
            "type": "contour"
           }
          ],
          "contourcarpet": [
           {
            "colorbar": {
             "outlinewidth": 0,
             "ticks": ""
            },
            "type": "contourcarpet"
           }
          ],
          "heatmap": [
           {
            "colorbar": {
             "outlinewidth": 0,
             "ticks": ""
            },
            "colorscale": [
             [
              0,
              "#0d0887"
             ],
             [
              0.1111111111111111,
              "#46039f"
             ],
             [
              0.2222222222222222,
              "#7201a8"
             ],
             [
              0.3333333333333333,
              "#9c179e"
             ],
             [
              0.4444444444444444,
              "#bd3786"
             ],
             [
              0.5555555555555556,
              "#d8576b"
             ],
             [
              0.6666666666666666,
              "#ed7953"
             ],
             [
              0.7777777777777778,
              "#fb9f3a"
             ],
             [
              0.8888888888888888,
              "#fdca26"
             ],
             [
              1,
              "#f0f921"
             ]
            ],
            "type": "heatmap"
           }
          ],
          "heatmapgl": [
           {
            "colorbar": {
             "outlinewidth": 0,
             "ticks": ""
            },
            "colorscale": [
             [
              0,
              "#0d0887"
             ],
             [
              0.1111111111111111,
              "#46039f"
             ],
             [
              0.2222222222222222,
              "#7201a8"
             ],
             [
              0.3333333333333333,
              "#9c179e"
             ],
             [
              0.4444444444444444,
              "#bd3786"
             ],
             [
              0.5555555555555556,
              "#d8576b"
             ],
             [
              0.6666666666666666,
              "#ed7953"
             ],
             [
              0.7777777777777778,
              "#fb9f3a"
             ],
             [
              0.8888888888888888,
              "#fdca26"
             ],
             [
              1,
              "#f0f921"
             ]
            ],
            "type": "heatmapgl"
           }
          ],
          "histogram": [
           {
            "marker": {
             "pattern": {
              "fillmode": "overlay",
              "size": 10,
              "solidity": 0.2
             }
            },
            "type": "histogram"
           }
          ],
          "histogram2d": [
           {
            "colorbar": {
             "outlinewidth": 0,
             "ticks": ""
            },
            "colorscale": [
             [
              0,
              "#0d0887"
             ],
             [
              0.1111111111111111,
              "#46039f"
             ],
             [
              0.2222222222222222,
              "#7201a8"
             ],
             [
              0.3333333333333333,
              "#9c179e"
             ],
             [
              0.4444444444444444,
              "#bd3786"
             ],
             [
              0.5555555555555556,
              "#d8576b"
             ],
             [
              0.6666666666666666,
              "#ed7953"
             ],
             [
              0.7777777777777778,
              "#fb9f3a"
             ],
             [
              0.8888888888888888,
              "#fdca26"
             ],
             [
              1,
              "#f0f921"
             ]
            ],
            "type": "histogram2d"
           }
          ],
          "histogram2dcontour": [
           {
            "colorbar": {
             "outlinewidth": 0,
             "ticks": ""
            },
            "colorscale": [
             [
              0,
              "#0d0887"
             ],
             [
              0.1111111111111111,
              "#46039f"
             ],
             [
              0.2222222222222222,
              "#7201a8"
             ],
             [
              0.3333333333333333,
              "#9c179e"
             ],
             [
              0.4444444444444444,
              "#bd3786"
             ],
             [
              0.5555555555555556,
              "#d8576b"
             ],
             [
              0.6666666666666666,
              "#ed7953"
             ],
             [
              0.7777777777777778,
              "#fb9f3a"
             ],
             [
              0.8888888888888888,
              "#fdca26"
             ],
             [
              1,
              "#f0f921"
             ]
            ],
            "type": "histogram2dcontour"
           }
          ],
          "mesh3d": [
           {
            "colorbar": {
             "outlinewidth": 0,
             "ticks": ""
            },
            "type": "mesh3d"
           }
          ],
          "parcoords": [
           {
            "line": {
             "colorbar": {
              "outlinewidth": 0,
              "ticks": ""
             }
            },
            "type": "parcoords"
           }
          ],
          "pie": [
           {
            "automargin": true,
            "type": "pie"
           }
          ],
          "scatter": [
           {
            "fillpattern": {
             "fillmode": "overlay",
             "size": 10,
             "solidity": 0.2
            },
            "type": "scatter"
           }
          ],
          "scatter3d": [
           {
            "line": {
             "colorbar": {
              "outlinewidth": 0,
              "ticks": ""
             }
            },
            "marker": {
             "colorbar": {
              "outlinewidth": 0,
              "ticks": ""
             }
            },
            "type": "scatter3d"
           }
          ],
          "scattercarpet": [
           {
            "marker": {
             "colorbar": {
              "outlinewidth": 0,
              "ticks": ""
             }
            },
            "type": "scattercarpet"
           }
          ],
          "scattergeo": [
           {
            "marker": {
             "colorbar": {
              "outlinewidth": 0,
              "ticks": ""
             }
            },
            "type": "scattergeo"
           }
          ],
          "scattergl": [
           {
            "marker": {
             "colorbar": {
              "outlinewidth": 0,
              "ticks": ""
             }
            },
            "type": "scattergl"
           }
          ],
          "scattermapbox": [
           {
            "marker": {
             "colorbar": {
              "outlinewidth": 0,
              "ticks": ""
             }
            },
            "type": "scattermapbox"
           }
          ],
          "scatterpolar": [
           {
            "marker": {
             "colorbar": {
              "outlinewidth": 0,
              "ticks": ""
             }
            },
            "type": "scatterpolar"
           }
          ],
          "scatterpolargl": [
           {
            "marker": {
             "colorbar": {
              "outlinewidth": 0,
              "ticks": ""
             }
            },
            "type": "scatterpolargl"
           }
          ],
          "scatterternary": [
           {
            "marker": {
             "colorbar": {
              "outlinewidth": 0,
              "ticks": ""
             }
            },
            "type": "scatterternary"
           }
          ],
          "surface": [
           {
            "colorbar": {
             "outlinewidth": 0,
             "ticks": ""
            },
            "colorscale": [
             [
              0,
              "#0d0887"
             ],
             [
              0.1111111111111111,
              "#46039f"
             ],
             [
              0.2222222222222222,
              "#7201a8"
             ],
             [
              0.3333333333333333,
              "#9c179e"
             ],
             [
              0.4444444444444444,
              "#bd3786"
             ],
             [
              0.5555555555555556,
              "#d8576b"
             ],
             [
              0.6666666666666666,
              "#ed7953"
             ],
             [
              0.7777777777777778,
              "#fb9f3a"
             ],
             [
              0.8888888888888888,
              "#fdca26"
             ],
             [
              1,
              "#f0f921"
             ]
            ],
            "type": "surface"
           }
          ],
          "table": [
           {
            "cells": {
             "fill": {
              "color": "#EBF0F8"
             },
             "line": {
              "color": "white"
             }
            },
            "header": {
             "fill": {
              "color": "#C8D4E3"
             },
             "line": {
              "color": "white"
             }
            },
            "type": "table"
           }
          ]
         },
         "layout": {
          "annotationdefaults": {
           "arrowcolor": "#2a3f5f",
           "arrowhead": 0,
           "arrowwidth": 1
          },
          "autotypenumbers": "strict",
          "coloraxis": {
           "colorbar": {
            "outlinewidth": 0,
            "ticks": ""
           }
          },
          "colorscale": {
           "diverging": [
            [
             0,
             "#8e0152"
            ],
            [
             0.1,
             "#c51b7d"
            ],
            [
             0.2,
             "#de77ae"
            ],
            [
             0.3,
             "#f1b6da"
            ],
            [
             0.4,
             "#fde0ef"
            ],
            [
             0.5,
             "#f7f7f7"
            ],
            [
             0.6,
             "#e6f5d0"
            ],
            [
             0.7,
             "#b8e186"
            ],
            [
             0.8,
             "#7fbc41"
            ],
            [
             0.9,
             "#4d9221"
            ],
            [
             1,
             "#276419"
            ]
           ],
           "sequential": [
            [
             0,
             "#0d0887"
            ],
            [
             0.1111111111111111,
             "#46039f"
            ],
            [
             0.2222222222222222,
             "#7201a8"
            ],
            [
             0.3333333333333333,
             "#9c179e"
            ],
            [
             0.4444444444444444,
             "#bd3786"
            ],
            [
             0.5555555555555556,
             "#d8576b"
            ],
            [
             0.6666666666666666,
             "#ed7953"
            ],
            [
             0.7777777777777778,
             "#fb9f3a"
            ],
            [
             0.8888888888888888,
             "#fdca26"
            ],
            [
             1,
             "#f0f921"
            ]
           ],
           "sequentialminus": [
            [
             0,
             "#0d0887"
            ],
            [
             0.1111111111111111,
             "#46039f"
            ],
            [
             0.2222222222222222,
             "#7201a8"
            ],
            [
             0.3333333333333333,
             "#9c179e"
            ],
            [
             0.4444444444444444,
             "#bd3786"
            ],
            [
             0.5555555555555556,
             "#d8576b"
            ],
            [
             0.6666666666666666,
             "#ed7953"
            ],
            [
             0.7777777777777778,
             "#fb9f3a"
            ],
            [
             0.8888888888888888,
             "#fdca26"
            ],
            [
             1,
             "#f0f921"
            ]
           ]
          },
          "colorway": [
           "#636efa",
           "#EF553B",
           "#00cc96",
           "#ab63fa",
           "#FFA15A",
           "#19d3f3",
           "#FF6692",
           "#B6E880",
           "#FF97FF",
           "#FECB52"
          ],
          "font": {
           "color": "#2a3f5f"
          },
          "geo": {
           "bgcolor": "white",
           "lakecolor": "white",
           "landcolor": "#E5ECF6",
           "showlakes": true,
           "showland": true,
           "subunitcolor": "white"
          },
          "hoverlabel": {
           "align": "left"
          },
          "hovermode": "closest",
          "mapbox": {
           "style": "light"
          },
          "paper_bgcolor": "white",
          "plot_bgcolor": "#E5ECF6",
          "polar": {
           "angularaxis": {
            "gridcolor": "white",
            "linecolor": "white",
            "ticks": ""
           },
           "bgcolor": "#E5ECF6",
           "radialaxis": {
            "gridcolor": "white",
            "linecolor": "white",
            "ticks": ""
           }
          },
          "scene": {
           "xaxis": {
            "backgroundcolor": "#E5ECF6",
            "gridcolor": "white",
            "gridwidth": 2,
            "linecolor": "white",
            "showbackground": true,
            "ticks": "",
            "zerolinecolor": "white"
           },
           "yaxis": {
            "backgroundcolor": "#E5ECF6",
            "gridcolor": "white",
            "gridwidth": 2,
            "linecolor": "white",
            "showbackground": true,
            "ticks": "",
            "zerolinecolor": "white"
           },
           "zaxis": {
            "backgroundcolor": "#E5ECF6",
            "gridcolor": "white",
            "gridwidth": 2,
            "linecolor": "white",
            "showbackground": true,
            "ticks": "",
            "zerolinecolor": "white"
           }
          },
          "shapedefaults": {
           "line": {
            "color": "#2a3f5f"
           }
          },
          "ternary": {
           "aaxis": {
            "gridcolor": "white",
            "linecolor": "white",
            "ticks": ""
           },
           "baxis": {
            "gridcolor": "white",
            "linecolor": "white",
            "ticks": ""
           },
           "bgcolor": "#E5ECF6",
           "caxis": {
            "gridcolor": "white",
            "linecolor": "white",
            "ticks": ""
           }
          },
          "title": {
           "x": 0.05
          },
          "xaxis": {
           "automargin": true,
           "gridcolor": "white",
           "linecolor": "white",
           "ticks": "",
           "title": {
            "standoff": 15
           },
           "zerolinecolor": "white",
           "zerolinewidth": 2
          },
          "yaxis": {
           "automargin": true,
           "gridcolor": "white",
           "linecolor": "white",
           "ticks": "",
           "title": {
            "standoff": 15
           },
           "zerolinecolor": "white",
           "zerolinewidth": 2
          }
         }
        }
       }
      },
      "text/html": [
       "<div>                            <div id=\"33d9b4b2-6499-40c5-8875-b0d56db2c408\" class=\"plotly-graph-div\" style=\"height:300px; width:100%;\"></div>            <script type=\"text/javascript\">                require([\"plotly\"], function(Plotly) {                    window.PLOTLYENV=window.PLOTLYENV || {};                                    if (document.getElementById(\"33d9b4b2-6499-40c5-8875-b0d56db2c408\")) {                    Plotly.newPlot(                        \"33d9b4b2-6499-40c5-8875-b0d56db2c408\",                        [{\"hovertemplate\":\"State=Ohio\\u003cbr\\u003elat=%{lat}\\u003cbr\\u003elon=%{lon}\\u003cextra\\u003e\\u003c\\u002fextra\\u003e\",\"lat\":[41.49932,40.742551,39.71367539999999,39.6895036,39.9611755,41.1339449,39.8814519,39.3454673,41.404774200000006,39.1031182,41.6639383,41.0997803,40.758390000000006,40.0992294,41.04422,41.3144966,39.7589478,41.5931049,41.2375569,39.843947,39.3995008,39.9242266,41.6661573,41.36837979999999,39.5150576,40.0581205,40.1261743,41.081444700000006,41.452819,39.7092262,41.481993200000005,40.7989473,41.5200518],\"legendgroup\":\"Ohio\",\"line\":{\"color\":\"#636efa\"},\"lon\":[-81.6943605,-84.1052256,-82.59932940000002,-84.16882740000001,-82.9987942,-81.48455849999999,-83.09296440000001,-84.56031870000001,-81.72290859999998,-84.5120196,-83.555212,-80.6495194,-82.51544709999999,-83.11407709999999,-83.6499321,-81.83569,-84.1916069,-81.5267873,-80.81841659999999,-84.1246608,-84.5613355,-83.8088171,-81.339552,-82.10764859999999,-84.39827629999999,-82.4012642,-82.9290696,-81.51900529999999,-82.18237459999999,-84.0632685,-81.7981908,-81.378447,-81.556235],\"mode\":\"lines\",\"name\":\"Ohio\",\"showlegend\":true,\"subplot\":\"map\",\"type\":\"scattermap\"},{\"hovertemplate\":\"State=New York\\u003cbr\\u003elat=%{lat}\\u003cbr\\u003elon=%{lon}\\u003cextra\\u003e\\u003c\\u002fextra\\u003e\",\"lat\":[42.8864468,40.9125992,42.8142432,42.0986867,42.65257929999999,43.16103,40.9312099,43.0962143,40.7062128,40.9114882,42.7284117,43.0481221,40.6642699,40.65760220000001,41.0339862,43.100903,40.7127837],\"legendgroup\":\"New York\",\"line\":{\"color\":\"#EF553B\"},\"lon\":[-78.8783689,-73.8370786,-73.93956870000001,-75.9179738,-73.7562317,-77.61092190000001,-73.8987469,-79.03773879999999,-73.6187397,-73.78235490000002,-73.69178509999999,-76.1474244,-73.7084645,-73.58318349999999,-73.76290970000001,-75.232664,-74.00594129999999],\"mode\":\"lines\",\"name\":\"New York\",\"showlegend\":true,\"subplot\":\"map\",\"type\":\"scattermap\"}],                        {\"template\":{\"data\":{\"histogram2dcontour\":[{\"type\":\"histogram2dcontour\",\"colorbar\":{\"outlinewidth\":0,\"ticks\":\"\"},\"colorscale\":[[0.0,\"#0d0887\"],[0.1111111111111111,\"#46039f\"],[0.2222222222222222,\"#7201a8\"],[0.3333333333333333,\"#9c179e\"],[0.4444444444444444,\"#bd3786\"],[0.5555555555555556,\"#d8576b\"],[0.6666666666666666,\"#ed7953\"],[0.7777777777777778,\"#fb9f3a\"],[0.8888888888888888,\"#fdca26\"],[1.0,\"#f0f921\"]]}],\"choropleth\":[{\"type\":\"choropleth\",\"colorbar\":{\"outlinewidth\":0,\"ticks\":\"\"}}],\"histogram2d\":[{\"type\":\"histogram2d\",\"colorbar\":{\"outlinewidth\":0,\"ticks\":\"\"},\"colorscale\":[[0.0,\"#0d0887\"],[0.1111111111111111,\"#46039f\"],[0.2222222222222222,\"#7201a8\"],[0.3333333333333333,\"#9c179e\"],[0.4444444444444444,\"#bd3786\"],[0.5555555555555556,\"#d8576b\"],[0.6666666666666666,\"#ed7953\"],[0.7777777777777778,\"#fb9f3a\"],[0.8888888888888888,\"#fdca26\"],[1.0,\"#f0f921\"]]}],\"heatmap\":[{\"type\":\"heatmap\",\"colorbar\":{\"outlinewidth\":0,\"ticks\":\"\"},\"colorscale\":[[0.0,\"#0d0887\"],[0.1111111111111111,\"#46039f\"],[0.2222222222222222,\"#7201a8\"],[0.3333333333333333,\"#9c179e\"],[0.4444444444444444,\"#bd3786\"],[0.5555555555555556,\"#d8576b\"],[0.6666666666666666,\"#ed7953\"],[0.7777777777777778,\"#fb9f3a\"],[0.8888888888888888,\"#fdca26\"],[1.0,\"#f0f921\"]]}],\"heatmapgl\":[{\"type\":\"heatmapgl\",\"colorbar\":{\"outlinewidth\":0,\"ticks\":\"\"},\"colorscale\":[[0.0,\"#0d0887\"],[0.1111111111111111,\"#46039f\"],[0.2222222222222222,\"#7201a8\"],[0.3333333333333333,\"#9c179e\"],[0.4444444444444444,\"#bd3786\"],[0.5555555555555556,\"#d8576b\"],[0.6666666666666666,\"#ed7953\"],[0.7777777777777778,\"#fb9f3a\"],[0.8888888888888888,\"#fdca26\"],[1.0,\"#f0f921\"]]}],\"contourcarpet\":[{\"type\":\"contourcarpet\",\"colorbar\":{\"outlinewidth\":0,\"ticks\":\"\"}}],\"contour\":[{\"type\":\"contour\",\"colorbar\":{\"outlinewidth\":0,\"ticks\":\"\"},\"colorscale\":[[0.0,\"#0d0887\"],[0.1111111111111111,\"#46039f\"],[0.2222222222222222,\"#7201a8\"],[0.3333333333333333,\"#9c179e\"],[0.4444444444444444,\"#bd3786\"],[0.5555555555555556,\"#d8576b\"],[0.6666666666666666,\"#ed7953\"],[0.7777777777777778,\"#fb9f3a\"],[0.8888888888888888,\"#fdca26\"],[1.0,\"#f0f921\"]]}],\"surface\":[{\"type\":\"surface\",\"colorbar\":{\"outlinewidth\":0,\"ticks\":\"\"},\"colorscale\":[[0.0,\"#0d0887\"],[0.1111111111111111,\"#46039f\"],[0.2222222222222222,\"#7201a8\"],[0.3333333333333333,\"#9c179e\"],[0.4444444444444444,\"#bd3786\"],[0.5555555555555556,\"#d8576b\"],[0.6666666666666666,\"#ed7953\"],[0.7777777777777778,\"#fb9f3a\"],[0.8888888888888888,\"#fdca26\"],[1.0,\"#f0f921\"]]}],\"mesh3d\":[{\"type\":\"mesh3d\",\"colorbar\":{\"outlinewidth\":0,\"ticks\":\"\"}}],\"scatter\":[{\"fillpattern\":{\"fillmode\":\"overlay\",\"size\":10,\"solidity\":0.2},\"type\":\"scatter\"}],\"parcoords\":[{\"type\":\"parcoords\",\"line\":{\"colorbar\":{\"outlinewidth\":0,\"ticks\":\"\"}}}],\"scatterpolargl\":[{\"type\":\"scatterpolargl\",\"marker\":{\"colorbar\":{\"outlinewidth\":0,\"ticks\":\"\"}}}],\"bar\":[{\"error_x\":{\"color\":\"#2a3f5f\"},\"error_y\":{\"color\":\"#2a3f5f\"},\"marker\":{\"line\":{\"color\":\"#E5ECF6\",\"width\":0.5},\"pattern\":{\"fillmode\":\"overlay\",\"size\":10,\"solidity\":0.2}},\"type\":\"bar\"}],\"scattergeo\":[{\"type\":\"scattergeo\",\"marker\":{\"colorbar\":{\"outlinewidth\":0,\"ticks\":\"\"}}}],\"scatterpolar\":[{\"type\":\"scatterpolar\",\"marker\":{\"colorbar\":{\"outlinewidth\":0,\"ticks\":\"\"}}}],\"histogram\":[{\"marker\":{\"pattern\":{\"fillmode\":\"overlay\",\"size\":10,\"solidity\":0.2}},\"type\":\"histogram\"}],\"scattergl\":[{\"type\":\"scattergl\",\"marker\":{\"colorbar\":{\"outlinewidth\":0,\"ticks\":\"\"}}}],\"scatter3d\":[{\"type\":\"scatter3d\",\"line\":{\"colorbar\":{\"outlinewidth\":0,\"ticks\":\"\"}},\"marker\":{\"colorbar\":{\"outlinewidth\":0,\"ticks\":\"\"}}}],\"scattermapbox\":[{\"type\":\"scattermapbox\",\"marker\":{\"colorbar\":{\"outlinewidth\":0,\"ticks\":\"\"}}}],\"scatterternary\":[{\"type\":\"scatterternary\",\"marker\":{\"colorbar\":{\"outlinewidth\":0,\"ticks\":\"\"}}}],\"scattercarpet\":[{\"type\":\"scattercarpet\",\"marker\":{\"colorbar\":{\"outlinewidth\":0,\"ticks\":\"\"}}}],\"carpet\":[{\"aaxis\":{\"endlinecolor\":\"#2a3f5f\",\"gridcolor\":\"white\",\"linecolor\":\"white\",\"minorgridcolor\":\"white\",\"startlinecolor\":\"#2a3f5f\"},\"baxis\":{\"endlinecolor\":\"#2a3f5f\",\"gridcolor\":\"white\",\"linecolor\":\"white\",\"minorgridcolor\":\"white\",\"startlinecolor\":\"#2a3f5f\"},\"type\":\"carpet\"}],\"table\":[{\"cells\":{\"fill\":{\"color\":\"#EBF0F8\"},\"line\":{\"color\":\"white\"}},\"header\":{\"fill\":{\"color\":\"#C8D4E3\"},\"line\":{\"color\":\"white\"}},\"type\":\"table\"}],\"barpolar\":[{\"marker\":{\"line\":{\"color\":\"#E5ECF6\",\"width\":0.5},\"pattern\":{\"fillmode\":\"overlay\",\"size\":10,\"solidity\":0.2}},\"type\":\"barpolar\"}],\"pie\":[{\"automargin\":true,\"type\":\"pie\"}]},\"layout\":{\"autotypenumbers\":\"strict\",\"colorway\":[\"#636efa\",\"#EF553B\",\"#00cc96\",\"#ab63fa\",\"#FFA15A\",\"#19d3f3\",\"#FF6692\",\"#B6E880\",\"#FF97FF\",\"#FECB52\"],\"font\":{\"color\":\"#2a3f5f\"},\"hovermode\":\"closest\",\"hoverlabel\":{\"align\":\"left\"},\"paper_bgcolor\":\"white\",\"plot_bgcolor\":\"#E5ECF6\",\"polar\":{\"bgcolor\":\"#E5ECF6\",\"angularaxis\":{\"gridcolor\":\"white\",\"linecolor\":\"white\",\"ticks\":\"\"},\"radialaxis\":{\"gridcolor\":\"white\",\"linecolor\":\"white\",\"ticks\":\"\"}},\"ternary\":{\"bgcolor\":\"#E5ECF6\",\"aaxis\":{\"gridcolor\":\"white\",\"linecolor\":\"white\",\"ticks\":\"\"},\"baxis\":{\"gridcolor\":\"white\",\"linecolor\":\"white\",\"ticks\":\"\"},\"caxis\":{\"gridcolor\":\"white\",\"linecolor\":\"white\",\"ticks\":\"\"}},\"coloraxis\":{\"colorbar\":{\"outlinewidth\":0,\"ticks\":\"\"}},\"colorscale\":{\"sequential\":[[0.0,\"#0d0887\"],[0.1111111111111111,\"#46039f\"],[0.2222222222222222,\"#7201a8\"],[0.3333333333333333,\"#9c179e\"],[0.4444444444444444,\"#bd3786\"],[0.5555555555555556,\"#d8576b\"],[0.6666666666666666,\"#ed7953\"],[0.7777777777777778,\"#fb9f3a\"],[0.8888888888888888,\"#fdca26\"],[1.0,\"#f0f921\"]],\"sequentialminus\":[[0.0,\"#0d0887\"],[0.1111111111111111,\"#46039f\"],[0.2222222222222222,\"#7201a8\"],[0.3333333333333333,\"#9c179e\"],[0.4444444444444444,\"#bd3786\"],[0.5555555555555556,\"#d8576b\"],[0.6666666666666666,\"#ed7953\"],[0.7777777777777778,\"#fb9f3a\"],[0.8888888888888888,\"#fdca26\"],[1.0,\"#f0f921\"]],\"diverging\":[[0,\"#8e0152\"],[0.1,\"#c51b7d\"],[0.2,\"#de77ae\"],[0.3,\"#f1b6da\"],[0.4,\"#fde0ef\"],[0.5,\"#f7f7f7\"],[0.6,\"#e6f5d0\"],[0.7,\"#b8e186\"],[0.8,\"#7fbc41\"],[0.9,\"#4d9221\"],[1,\"#276419\"]]},\"xaxis\":{\"gridcolor\":\"white\",\"linecolor\":\"white\",\"ticks\":\"\",\"title\":{\"standoff\":15},\"zerolinecolor\":\"white\",\"automargin\":true,\"zerolinewidth\":2},\"yaxis\":{\"gridcolor\":\"white\",\"linecolor\":\"white\",\"ticks\":\"\",\"title\":{\"standoff\":15},\"zerolinecolor\":\"white\",\"automargin\":true,\"zerolinewidth\":2},\"scene\":{\"xaxis\":{\"backgroundcolor\":\"#E5ECF6\",\"gridcolor\":\"white\",\"linecolor\":\"white\",\"showbackground\":true,\"ticks\":\"\",\"zerolinecolor\":\"white\",\"gridwidth\":2},\"yaxis\":{\"backgroundcolor\":\"#E5ECF6\",\"gridcolor\":\"white\",\"linecolor\":\"white\",\"showbackground\":true,\"ticks\":\"\",\"zerolinecolor\":\"white\",\"gridwidth\":2},\"zaxis\":{\"backgroundcolor\":\"#E5ECF6\",\"gridcolor\":\"white\",\"linecolor\":\"white\",\"showbackground\":true,\"ticks\":\"\",\"zerolinecolor\":\"white\",\"gridwidth\":2}},\"shapedefaults\":{\"line\":{\"color\":\"#2a3f5f\"}},\"annotationdefaults\":{\"arrowcolor\":\"#2a3f5f\",\"arrowhead\":0,\"arrowwidth\":1},\"geo\":{\"bgcolor\":\"white\",\"landcolor\":\"#E5ECF6\",\"subunitcolor\":\"white\",\"showland\":true,\"showlakes\":true,\"lakecolor\":\"white\"},\"title\":{\"x\":0.05},\"mapbox\":{\"style\":\"light\"}}},\"map\":{\"domain\":{\"x\":[0.0,1.0],\"y\":[0.0,1.0]},\"center\":{\"lat\":41,\"lon\":-80.107484742},\"zoom\":4,\"style\":\"open-street-map\"},\"legend\":{\"title\":{\"text\":\"State\"},\"tracegroupgap\":0},\"margin\":{\"t\":0,\"r\":0,\"l\":0,\"b\":0},\"height\":300,\"mapbox\":{\"center\":{\"lat\":41.02214963,\"lon\":-80.107484742},\"zoom\":3}},                        {\"responsive\": true}                    ).then(function(){\n",
       "                            \n",
       "var gd = document.getElementById('33d9b4b2-6499-40c5-8875-b0d56db2c408');\n",
       "var x = new MutationObserver(function (mutations, observer) {{\n",
       "        var display = window.getComputedStyle(gd).display;\n",
       "        if (!display || display === 'none') {{\n",
       "            console.log([gd, 'removed!']);\n",
       "            Plotly.purge(gd);\n",
       "            observer.disconnect();\n",
       "        }}\n",
       "}});\n",
       "\n",
       "// Listen for the removal of the full notebook cells\n",
       "var notebookContainer = gd.closest('#notebook-container');\n",
       "if (notebookContainer) {{\n",
       "    x.observe(notebookContainer, {childList: true});\n",
       "}}\n",
       "\n",
       "// Listen for the clearing of the current output cell\n",
       "var outputEl = gd.closest('.output');\n",
       "if (outputEl) {{\n",
       "    x.observe(outputEl, {childList: true});\n",
       "}}\n",
       "\n",
       "                        })                };                });            </script>        </div>"
      ]
     },
     "metadata": {},
     "output_type": "display_data"
    }
   ],
   "source": [
    "import pandas as pd\n",
    "\n",
    "us_cities = pd.read_csv(\"https://raw.githubusercontent.com/plotly/datasets/master/us-cities-top-1k.csv\")\n",
    "us_cities = us_cities.query(\"State in ['New York', 'Ohio']\")\n",
    "\n",
    "import plotly.express as px\n",
    "\n",
    "fig = px.line_map(us_cities, lat=\"lat\", lon=\"lon\", color=\"State\", zoom=3, height=300)\n",
    "\n",
    "fig.update_layout(map_style=\"open-street-map\", map_zoom=4, map_center_lat = 41,\n",
    "    margin={\"r\":0,\"t\":0,\"l\":0,\"b\":0})\n",
    "\n",
    "fig.show()"
   ]
  },
  {
   "cell_type": "code",
   "execution_count": 34,
   "id": "6433e799-6db8-476f-bf28-cb5b18e42280",
   "metadata": {},
   "outputs": [],
   "source": [
    "import io\n",
    "import pyarrow.feather as feather\n",
    "from typing import Sequence\n",
    "\n",
    "def remove_columns(df: pandas.DataFrame, cols: Sequence[str]):\n",
    "    keep_cols = [x for x in df.columns if not x in set(cols)]\n",
    "    return df[keep_cols]\n",
    "\n",
    "def serialize_dataframe(df: pandas.DataFrame):\n",
    "    rem_cols = ['left_right_balance']\n",
    "    with io.BytesIO() as buffer:\n",
    "        remove_columns(df, rem_cols).to_feather(buffer)\n",
    "        serialized = buffer.getvalue()\n",
    "    return serialized\n",
    "\n",
    "def deserialize_dataframe(serialized: bytes):\n",
    "    return feather.read_feather(io.BytesIO(serialized))\n",
    "\n",
    "tmp = serialize_dataframe(ride_df)"
   ]
  },
  {
   "cell_type": "code",
   "execution_count": 35,
   "id": "984d319d-5fab-45c0-b87a-c23d1bfb8853",
   "metadata": {},
   "outputs": [
    {
     "data": {
      "text/plain": [
       "1391522"
      ]
     },
     "execution_count": 35,
     "metadata": {},
     "output_type": "execute_result"
    }
   ],
   "source": [
    "len(tmp)"
   ]
  },
  {
   "cell_type": "code",
   "execution_count": 36,
   "id": "2d936108-07e3-42ba-9ca1-fb34caf240fd",
   "metadata": {},
   "outputs": [
    {
     "data": {
      "text/html": [
       "<div>\n",
       "<style scoped>\n",
       "    .dataframe tbody tr th:only-of-type {\n",
       "        vertical-align: middle;\n",
       "    }\n",
       "\n",
       "    .dataframe tbody tr th {\n",
       "        vertical-align: top;\n",
       "    }\n",
       "\n",
       "    .dataframe thead th {\n",
       "        text-align: right;\n",
       "    }\n",
       "</style>\n",
       "<table border=\"1\" class=\"dataframe\">\n",
       "  <thead>\n",
       "    <tr style=\"text-align: right;\">\n",
       "      <th></th>\n",
       "      <th>timestamp</th>\n",
       "      <th>position_lat</th>\n",
       "      <th>position_long</th>\n",
       "      <th>gps_accuracy</th>\n",
       "      <th>distance</th>\n",
       "      <th>enhanced_speed</th>\n",
       "      <th>speed</th>\n",
       "      <th>calories</th>\n",
       "      <th>cadence</th>\n",
       "      <th>power</th>\n",
       "      <th>...</th>\n",
       "      <th>right_pedal_smoothness</th>\n",
       "      <th>left_torque_effectiveness</th>\n",
       "      <th>right_torque_effectiveness</th>\n",
       "      <th>battery_soc</th>\n",
       "      <th>temperature</th>\n",
       "      <th>enhanced_altitude</th>\n",
       "      <th>altitude</th>\n",
       "      <th>grade</th>\n",
       "      <th>ascent</th>\n",
       "      <th>descent</th>\n",
       "    </tr>\n",
       "  </thead>\n",
       "  <tbody>\n",
       "    <tr>\n",
       "      <th>0</th>\n",
       "      <td>2024-11-12 06:55:35</td>\n",
       "      <td>48.810226</td>\n",
       "      <td>9.163252</td>\n",
       "      <td>23.0</td>\n",
       "      <td>0.00</td>\n",
       "      <td>1.603</td>\n",
       "      <td>1.603</td>\n",
       "      <td>NaN</td>\n",
       "      <td>NaN</td>\n",
       "      <td>NaN</td>\n",
       "      <td>...</td>\n",
       "      <td>NaN</td>\n",
       "      <td>NaN</td>\n",
       "      <td>NaN</td>\n",
       "      <td>NaN</td>\n",
       "      <td>NaN</td>\n",
       "      <td>NaN</td>\n",
       "      <td>NaN</td>\n",
       "      <td>NaN</td>\n",
       "      <td>NaN</td>\n",
       "      <td>NaN</td>\n",
       "    </tr>\n",
       "    <tr>\n",
       "      <th>1</th>\n",
       "      <td>2024-11-12 06:55:36</td>\n",
       "      <td>48.810236</td>\n",
       "      <td>9.163212</td>\n",
       "      <td>24.0</td>\n",
       "      <td>3.24</td>\n",
       "      <td>1.923</td>\n",
       "      <td>1.923</td>\n",
       "      <td>0.0</td>\n",
       "      <td>44.0</td>\n",
       "      <td>231.0</td>\n",
       "      <td>...</td>\n",
       "      <td>22.0</td>\n",
       "      <td>92.0</td>\n",
       "      <td>97.5</td>\n",
       "      <td>98.0</td>\n",
       "      <td>NaN</td>\n",
       "      <td>NaN</td>\n",
       "      <td>NaN</td>\n",
       "      <td>NaN</td>\n",
       "      <td>NaN</td>\n",
       "      <td>NaN</td>\n",
       "    </tr>\n",
       "    <tr>\n",
       "      <th>2</th>\n",
       "      <td>2024-11-12 06:55:37</td>\n",
       "      <td>48.810247</td>\n",
       "      <td>9.163171</td>\n",
       "      <td>26.0</td>\n",
       "      <td>6.47</td>\n",
       "      <td>2.244</td>\n",
       "      <td>2.244</td>\n",
       "      <td>0.0</td>\n",
       "      <td>46.0</td>\n",
       "      <td>225.0</td>\n",
       "      <td>...</td>\n",
       "      <td>25.5</td>\n",
       "      <td>92.5</td>\n",
       "      <td>96.0</td>\n",
       "      <td>NaN</td>\n",
       "      <td>21.0</td>\n",
       "      <td>NaN</td>\n",
       "      <td>NaN</td>\n",
       "      <td>NaN</td>\n",
       "      <td>NaN</td>\n",
       "      <td>NaN</td>\n",
       "    </tr>\n",
       "    <tr>\n",
       "      <th>3</th>\n",
       "      <td>2024-11-12 06:55:38</td>\n",
       "      <td>48.810257</td>\n",
       "      <td>9.163134</td>\n",
       "      <td>29.0</td>\n",
       "      <td>9.54</td>\n",
       "      <td>2.676</td>\n",
       "      <td>2.676</td>\n",
       "      <td>0.0</td>\n",
       "      <td>49.0</td>\n",
       "      <td>217.0</td>\n",
       "      <td>...</td>\n",
       "      <td>29.5</td>\n",
       "      <td>93.5</td>\n",
       "      <td>94.5</td>\n",
       "      <td>NaN</td>\n",
       "      <td>21.0</td>\n",
       "      <td>NaN</td>\n",
       "      <td>NaN</td>\n",
       "      <td>NaN</td>\n",
       "      <td>NaN</td>\n",
       "      <td>NaN</td>\n",
       "    </tr>\n",
       "    <tr>\n",
       "      <th>4</th>\n",
       "      <td>2024-11-12 06:55:39</td>\n",
       "      <td>48.810272</td>\n",
       "      <td>9.163093</td>\n",
       "      <td>32.0</td>\n",
       "      <td>12.94</td>\n",
       "      <td>2.932</td>\n",
       "      <td>2.932</td>\n",
       "      <td>0.0</td>\n",
       "      <td>52.0</td>\n",
       "      <td>196.0</td>\n",
       "      <td>...</td>\n",
       "      <td>29.5</td>\n",
       "      <td>92.5</td>\n",
       "      <td>92.5</td>\n",
       "      <td>NaN</td>\n",
       "      <td>21.0</td>\n",
       "      <td>NaN</td>\n",
       "      <td>NaN</td>\n",
       "      <td>NaN</td>\n",
       "      <td>NaN</td>\n",
       "      <td>NaN</td>\n",
       "    </tr>\n",
       "    <tr>\n",
       "      <th>...</th>\n",
       "      <td>...</td>\n",
       "      <td>...</td>\n",
       "      <td>...</td>\n",
       "      <td>...</td>\n",
       "      <td>...</td>\n",
       "      <td>...</td>\n",
       "      <td>...</td>\n",
       "      <td>...</td>\n",
       "      <td>...</td>\n",
       "      <td>...</td>\n",
       "      <td>...</td>\n",
       "      <td>...</td>\n",
       "      <td>...</td>\n",
       "      <td>...</td>\n",
       "      <td>...</td>\n",
       "      <td>...</td>\n",
       "      <td>...</td>\n",
       "      <td>...</td>\n",
       "      <td>...</td>\n",
       "      <td>...</td>\n",
       "      <td>...</td>\n",
       "    </tr>\n",
       "    <tr>\n",
       "      <th>23705</th>\n",
       "      <td>2024-11-12 14:52:34</td>\n",
       "      <td>NaN</td>\n",
       "      <td>NaN</td>\n",
       "      <td>NaN</td>\n",
       "      <td>173351.73</td>\n",
       "      <td>NaN</td>\n",
       "      <td>NaN</td>\n",
       "      <td>4469.0</td>\n",
       "      <td>0.0</td>\n",
       "      <td>0.0</td>\n",
       "      <td>...</td>\n",
       "      <td>NaN</td>\n",
       "      <td>NaN</td>\n",
       "      <td>NaN</td>\n",
       "      <td>NaN</td>\n",
       "      <td>4.0</td>\n",
       "      <td>411.2</td>\n",
       "      <td>411.2</td>\n",
       "      <td>-7.10</td>\n",
       "      <td>2487.0</td>\n",
       "      <td>2409.0</td>\n",
       "    </tr>\n",
       "    <tr>\n",
       "      <th>23706</th>\n",
       "      <td>2024-11-12 14:52:35</td>\n",
       "      <td>NaN</td>\n",
       "      <td>NaN</td>\n",
       "      <td>NaN</td>\n",
       "      <td>173351.73</td>\n",
       "      <td>NaN</td>\n",
       "      <td>NaN</td>\n",
       "      <td>4469.0</td>\n",
       "      <td>0.0</td>\n",
       "      <td>0.0</td>\n",
       "      <td>...</td>\n",
       "      <td>NaN</td>\n",
       "      <td>NaN</td>\n",
       "      <td>NaN</td>\n",
       "      <td>NaN</td>\n",
       "      <td>4.0</td>\n",
       "      <td>411.2</td>\n",
       "      <td>411.2</td>\n",
       "      <td>-6.70</td>\n",
       "      <td>2487.0</td>\n",
       "      <td>2409.0</td>\n",
       "    </tr>\n",
       "    <tr>\n",
       "      <th>23707</th>\n",
       "      <td>2024-11-12 14:52:36</td>\n",
       "      <td>NaN</td>\n",
       "      <td>NaN</td>\n",
       "      <td>NaN</td>\n",
       "      <td>173351.73</td>\n",
       "      <td>NaN</td>\n",
       "      <td>NaN</td>\n",
       "      <td>4469.0</td>\n",
       "      <td>0.0</td>\n",
       "      <td>0.0</td>\n",
       "      <td>...</td>\n",
       "      <td>NaN</td>\n",
       "      <td>NaN</td>\n",
       "      <td>NaN</td>\n",
       "      <td>NaN</td>\n",
       "      <td>4.0</td>\n",
       "      <td>411.2</td>\n",
       "      <td>411.2</td>\n",
       "      <td>-6.12</td>\n",
       "      <td>2487.0</td>\n",
       "      <td>2409.0</td>\n",
       "    </tr>\n",
       "    <tr>\n",
       "      <th>23708</th>\n",
       "      <td>2024-11-12 14:52:37</td>\n",
       "      <td>NaN</td>\n",
       "      <td>NaN</td>\n",
       "      <td>NaN</td>\n",
       "      <td>173351.73</td>\n",
       "      <td>NaN</td>\n",
       "      <td>NaN</td>\n",
       "      <td>4469.0</td>\n",
       "      <td>0.0</td>\n",
       "      <td>0.0</td>\n",
       "      <td>...</td>\n",
       "      <td>NaN</td>\n",
       "      <td>NaN</td>\n",
       "      <td>NaN</td>\n",
       "      <td>NaN</td>\n",
       "      <td>NaN</td>\n",
       "      <td>411.2</td>\n",
       "      <td>411.2</td>\n",
       "      <td>-5.30</td>\n",
       "      <td>2487.0</td>\n",
       "      <td>2409.0</td>\n",
       "    </tr>\n",
       "    <tr>\n",
       "      <th>23709</th>\n",
       "      <td>2024-11-12 14:52:38</td>\n",
       "      <td>NaN</td>\n",
       "      <td>NaN</td>\n",
       "      <td>NaN</td>\n",
       "      <td>173351.73</td>\n",
       "      <td>NaN</td>\n",
       "      <td>NaN</td>\n",
       "      <td>4469.0</td>\n",
       "      <td>0.0</td>\n",
       "      <td>0.0</td>\n",
       "      <td>...</td>\n",
       "      <td>NaN</td>\n",
       "      <td>NaN</td>\n",
       "      <td>NaN</td>\n",
       "      <td>NaN</td>\n",
       "      <td>NaN</td>\n",
       "      <td>411.0</td>\n",
       "      <td>411.0</td>\n",
       "      <td>-4.19</td>\n",
       "      <td>2487.0</td>\n",
       "      <td>2409.0</td>\n",
       "    </tr>\n",
       "  </tbody>\n",
       "</table>\n",
       "<p>23710 rows × 21 columns</p>\n",
       "</div>"
      ],
      "text/plain": [
       "                timestamp  position_lat  position_long  gps_accuracy  \\\n",
       "0     2024-11-12 06:55:35     48.810226       9.163252          23.0   \n",
       "1     2024-11-12 06:55:36     48.810236       9.163212          24.0   \n",
       "2     2024-11-12 06:55:37     48.810247       9.163171          26.0   \n",
       "3     2024-11-12 06:55:38     48.810257       9.163134          29.0   \n",
       "4     2024-11-12 06:55:39     48.810272       9.163093          32.0   \n",
       "...                   ...           ...            ...           ...   \n",
       "23705 2024-11-12 14:52:34           NaN            NaN           NaN   \n",
       "23706 2024-11-12 14:52:35           NaN            NaN           NaN   \n",
       "23707 2024-11-12 14:52:36           NaN            NaN           NaN   \n",
       "23708 2024-11-12 14:52:37           NaN            NaN           NaN   \n",
       "23709 2024-11-12 14:52:38           NaN            NaN           NaN   \n",
       "\n",
       "        distance  enhanced_speed  speed  calories  cadence  power  ...  \\\n",
       "0           0.00           1.603  1.603       NaN      NaN    NaN  ...   \n",
       "1           3.24           1.923  1.923       0.0     44.0  231.0  ...   \n",
       "2           6.47           2.244  2.244       0.0     46.0  225.0  ...   \n",
       "3           9.54           2.676  2.676       0.0     49.0  217.0  ...   \n",
       "4          12.94           2.932  2.932       0.0     52.0  196.0  ...   \n",
       "...          ...             ...    ...       ...      ...    ...  ...   \n",
       "23705  173351.73             NaN    NaN    4469.0      0.0    0.0  ...   \n",
       "23706  173351.73             NaN    NaN    4469.0      0.0    0.0  ...   \n",
       "23707  173351.73             NaN    NaN    4469.0      0.0    0.0  ...   \n",
       "23708  173351.73             NaN    NaN    4469.0      0.0    0.0  ...   \n",
       "23709  173351.73             NaN    NaN    4469.0      0.0    0.0  ...   \n",
       "\n",
       "       right_pedal_smoothness  left_torque_effectiveness  \\\n",
       "0                         NaN                        NaN   \n",
       "1                        22.0                       92.0   \n",
       "2                        25.5                       92.5   \n",
       "3                        29.5                       93.5   \n",
       "4                        29.5                       92.5   \n",
       "...                       ...                        ...   \n",
       "23705                     NaN                        NaN   \n",
       "23706                     NaN                        NaN   \n",
       "23707                     NaN                        NaN   \n",
       "23708                     NaN                        NaN   \n",
       "23709                     NaN                        NaN   \n",
       "\n",
       "       right_torque_effectiveness  battery_soc  temperature  \\\n",
       "0                             NaN          NaN          NaN   \n",
       "1                            97.5         98.0          NaN   \n",
       "2                            96.0          NaN         21.0   \n",
       "3                            94.5          NaN         21.0   \n",
       "4                            92.5          NaN         21.0   \n",
       "...                           ...          ...          ...   \n",
       "23705                         NaN          NaN          4.0   \n",
       "23706                         NaN          NaN          4.0   \n",
       "23707                         NaN          NaN          4.0   \n",
       "23708                         NaN          NaN          NaN   \n",
       "23709                         NaN          NaN          NaN   \n",
       "\n",
       "       enhanced_altitude  altitude  grade  ascent  descent  \n",
       "0                    NaN       NaN    NaN     NaN      NaN  \n",
       "1                    NaN       NaN    NaN     NaN      NaN  \n",
       "2                    NaN       NaN    NaN     NaN      NaN  \n",
       "3                    NaN       NaN    NaN     NaN      NaN  \n",
       "4                    NaN       NaN    NaN     NaN      NaN  \n",
       "...                  ...       ...    ...     ...      ...  \n",
       "23705              411.2     411.2  -7.10  2487.0   2409.0  \n",
       "23706              411.2     411.2  -6.70  2487.0   2409.0  \n",
       "23707              411.2     411.2  -6.12  2487.0   2409.0  \n",
       "23708              411.2     411.2  -5.30  2487.0   2409.0  \n",
       "23709              411.0     411.0  -4.19  2487.0   2409.0  \n",
       "\n",
       "[23710 rows x 21 columns]"
      ]
     },
     "execution_count": 36,
     "metadata": {},
     "output_type": "execute_result"
    }
   ],
   "source": [
    "deserialize_dataframe(tmp)"
   ]
  },
  {
   "cell_type": "code",
   "execution_count": null,
   "id": "34b16673-adf3-47cf-bcdf-dd5a6cccb2d3",
   "metadata": {},
   "outputs": [],
   "source": []
  }
 ],
 "metadata": {
  "kernelspec": {
   "display_name": "Python 3 (ipykernel)",
   "language": "python",
   "name": "python3"
  },
  "language_info": {
   "codemirror_mode": {
    "name": "ipython",
    "version": 3
   },
   "file_extension": ".py",
   "mimetype": "text/x-python",
   "name": "python",
   "nbconvert_exporter": "python",
   "pygments_lexer": "ipython3",
   "version": "3.10.12"
  }
 },
 "nbformat": 4,
 "nbformat_minor": 5
}
